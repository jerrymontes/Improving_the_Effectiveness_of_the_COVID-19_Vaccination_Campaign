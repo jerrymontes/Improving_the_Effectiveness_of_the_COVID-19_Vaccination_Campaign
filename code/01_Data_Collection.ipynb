{
 "cells": [
  {
   "cell_type": "code",
   "execution_count": 1,
   "id": "2757fba7-627d-4563-a141-d32e462ef591",
   "metadata": {},
   "outputs": [],
   "source": [
    "#Imported all of the modules I would need to utilize.\n",
    "import matplotlib.pyplot as plt\n",
    "import numpy as np\n",
    "import pandas as pd\n",
    "import requests\n",
    "import seaborn as sns\n",
    "import time\n",
    "\n",
    "from nltk import word_tokenize\n",
    "from nltk.stem import PorterStemmer, WordNetLemmatizer\n",
    "\n",
    "from sklearn.compose import make_column_selector, make_column_transformer\n",
    "from sklearn.dummy import DummyClassifier\n",
    "from sklearn.ensemble import RandomForestClassifier, ExtraTreesClassifier, VotingClassifier\n",
    "from sklearn.feature_extraction.text import CountVectorizer, TfidfVectorizer\n",
    "from sklearn.linear_model import LogisticRegression\n",
    "from sklearn.metrics import ConfusionMatrixDisplay, classification_report, accuracy_score, f1_score, precision_score, recall_score\n",
    "from sklearn.model_selection import train_test_split, cross_val_score, GridSearchCV, RandomizedSearchCV\n",
    "from sklearn.naive_bayes import GaussianNB, MultinomialNB\n",
    "from sklearn.neighbors import KNeighborsClassifier\n",
    "from sklearn.pipeline import make_pipeline\n",
    "from sklearn.preprocessing import StandardScaler, OneHotEncoder\n",
    "from sklearn.svm import SVC\n",
    "from sklearn.tree import plot_tree, export_text"
   ]
  },
  {
   "cell_type": "code",
   "execution_count": 2,
   "id": "30b0aeea-285e-4413-b3fe-8661032dfbc9",
   "metadata": {},
   "outputs": [
    {
     "data": {
      "text/plain": [
       "'https://api.pushshift.io/reddit/search/submission?subreddit=CovidVaccinated&metadata=true&size=0'"
      ]
     },
     "execution_count": 2,
     "metadata": {},
     "output_type": "execute_result"
    }
   ],
   "source": [
    "# Requested the total number of posts in Subreddit A (CovidVaccinated) from Reddit's Application Programming Interface.\n",
    "\"https://api.pushshift.io/reddit/search/submission?subreddit=CovidVaccinated&metadata=true&size=0\""
   ]
  },
  {
   "cell_type": "code",
   "execution_count": 3,
   "id": "d72282eb-02cd-4e98-8e9f-7f2c907613fb",
   "metadata": {},
   "outputs": [
    {
     "data": {
      "text/plain": [
       "'https://api.pushshift.io/reddit/search/submission/?subreddit=CovidVaccinated&metadata=true&size=0&is_self=true'"
      ]
     },
     "execution_count": 3,
     "metadata": {},
     "output_type": "execute_result"
    }
   ],
   "source": [
    "# Requested the total number of self-text posts in Subreddit A (CovidVaccinated) from Reddit's Application Programming Interface.\n",
    "\"https://api.pushshift.io/reddit/search/submission/?subreddit=CovidVaccinated&metadata=true&size=0&is_self=true\""
   ]
  },
  {
   "cell_type": "code",
   "execution_count": 4,
   "id": "91a0efeb-c04e-4fd7-be33-27322af792aa",
   "metadata": {},
   "outputs": [
    {
     "data": {
      "text/plain": [
       "'https://api.pushshift.io/reddit/search/submission?subreddit=DebateVaccines&metadata=true&size=0'"
      ]
     },
     "execution_count": 4,
     "metadata": {},
     "output_type": "execute_result"
    }
   ],
   "source": [
    "# Requested the total number of posts in Subreddit B (DebateVaccines) from Reddit's Application Programming Interface.\n",
    "\"https://api.pushshift.io/reddit/search/submission?subreddit=DebateVaccines&metadata=true&size=0\""
   ]
  },
  {
   "cell_type": "code",
   "execution_count": 5,
   "id": "78f8ca57-3d1c-40cc-a698-124eecfeb46e",
   "metadata": {},
   "outputs": [
    {
     "data": {
      "text/plain": [
       "'https://api.pushshift.io/reddit/search/submission/?subreddit=DebateVaccines&metadata=true&size=0&is_self=true'"
      ]
     },
     "execution_count": 5,
     "metadata": {},
     "output_type": "execute_result"
    }
   ],
   "source": [
    "# Requested the total number of self-text posts in Subreddit B (DebateVaccines) from Reddit's Application Programming Interface.\n",
    "\"https://api.pushshift.io/reddit/search/submission/?subreddit=DebateVaccines&metadata=true&size=0&is_self=true\""
   ]
  },
  {
   "cell_type": "code",
   "execution_count": 6,
   "id": "55f2f2b7-6800-462b-a475-3099f57d511d",
   "metadata": {},
   "outputs": [],
   "source": [
    "# Created a variable named url and initializing it to include address of Reddit's API endpoint for searching submissions.\n",
    "url = 'https://api.pushshift.io/reddit/search/submission'"
   ]
  },
  {
   "cell_type": "code",
   "execution_count": 19,
   "id": "05142cd4-74ec-4f8b-9656-51d3a74471b3",
   "metadata": {},
   "outputs": [],
   "source": [
    "# Obtained code from fellow student Tamara regarding time.sleep() method\n",
    "# Created function named <get_posts> which has two hyperparameters: subreddit and utc.  It then scrapes the specified post count (7000) from the specified subreddit from the specified utc backwards before creating a DataFrame with the results.\n",
    "def get_posts(subreddit, utc):\n",
    "    post_count = 7000\n",
    "    params = {'subreddit' : subreddit,\n",
    "              'size' : 100,\n",
    "              'is_self' : True,\n",
    "              'before' : utc\n",
    "    }\n",
    "    res = requests.get(url, params)\n",
    "    data = res.json()\n",
    "    posts = data['data']\n",
    "    new_utc = posts[-1]['created_utc']\n",
    "    posts_df = pd.DataFrame(posts)\n",
    "    i = 1\n",
    "    \n",
    "    \n",
    "    while i < (post_count/100):\n",
    "        params = {'subreddit' : subreddit,\n",
    "              'size' : 100,\n",
    "              'is_self' : True,\n",
    "              'before' : new_utc\n",
    "        }\n",
    "        res = requests.get(url, params)\n",
    "        data_1 = res.json()\n",
    "        posts_1 = data_1['data']\n",
    "        new_utc = posts_1[-1]['created_utc']\n",
    "        posts_df_1 = pd.DataFrame(posts_1)\n",
    "        posts_df = pd.concat([posts_df, posts_df_1])\n",
    "        i += 1\n",
    "        time.sleep(12)\n",
    "    return posts_df"
   ]
  },
  {
   "cell_type": "code",
   "execution_count": 20,
   "id": "a234e781-18ee-484f-a41e-ffcd7271b57a",
   "metadata": {},
   "outputs": [],
   "source": [
    "# Called the get_posts function with Subreddit A and UTC from Thursday, April 28, 2022.\n",
    "subreddit_a_part_one = get_posts('CovidVaccinated', 1651177777)"
   ]
  },
  {
   "cell_type": "code",
   "execution_count": 21,
   "id": "faa4011c-a39d-48c3-9a79-3dadc73abeca",
   "metadata": {},
   "outputs": [
    {
     "data": {
      "text/plain": [
       "pandas.core.frame.DataFrame"
      ]
     },
     "execution_count": 21,
     "metadata": {},
     "output_type": "execute_result"
    }
   ],
   "source": [
    "# Verified that the result of calling the function was of type DataFrame.\n",
    "type(subreddit_a_part_one)"
   ]
  },
  {
   "cell_type": "code",
   "execution_count": 22,
   "id": "a0515b45-82d3-4764-8628-dc99d49bb170",
   "metadata": {},
   "outputs": [
    {
     "data": {
      "text/plain": [
       "(6990, 73)"
      ]
     },
     "execution_count": 22,
     "metadata": {},
     "output_type": "execute_result"
    }
   ],
   "source": [
    "# Looked at the shape of the DataFrame created by attempting to scrape 7000 posts from Subreddit A.  There were 73 columns, one of which was 'title'.\n",
    "subreddit_a_part_one.shape"
   ]
  },
  {
   "cell_type": "code",
   "execution_count": 23,
   "id": "d6dc14fc-e02e-44c0-bd8d-2711342b516b",
   "metadata": {},
   "outputs": [
    {
     "data": {
      "text/plain": [
       "255"
      ]
     },
     "execution_count": 23,
     "metadata": {},
     "output_type": "execute_result"
    }
   ],
   "source": [
    "# Obtained the sum of duplicate titles in the DataFrame.\n",
    "subreddit_a_part_one['title'].duplicated().sum()"
   ]
  },
  {
   "cell_type": "code",
   "execution_count": 24,
   "id": "436edaec-0492-4c9f-8c3a-aaa975624543",
   "metadata": {},
   "outputs": [],
   "source": [
    "# Dropped the 255 duplicate titles from the DataFrame.\n",
    "subreddit_a_part_one = subreddit_a_part_one.drop_duplicates(subset=['title'], keep = 'last')"
   ]
  },
  {
   "cell_type": "code",
   "execution_count": 25,
   "id": "d078052e-96e7-4673-8044-b3a029e1d6e5",
   "metadata": {},
   "outputs": [
    {
     "data": {
      "text/plain": [
       "(6735, 73)"
      ]
     },
     "execution_count": 25,
     "metadata": {},
     "output_type": "execute_result"
    }
   ],
   "source": [
    "# Looked at the new shape of the DataFrame after having dropped those duplicates.\n",
    "subreddit_a_part_one.shape"
   ]
  },
  {
   "cell_type": "code",
   "execution_count": 26,
   "id": "a8a5199d-e7d3-4e47-8f75-96e17875a49e",
   "metadata": {},
   "outputs": [
    {
     "data": {
      "text/plain": [
       "array(['CovidVaccinated'], dtype=object)"
      ]
     },
     "execution_count": 26,
     "metadata": {},
     "output_type": "execute_result"
    }
   ],
   "source": [
    "# Confirmed that the only value of the 'subreddit' column in this DataFrame was \"CovidVaccinated\".\n",
    "subreddit_a_part_one['subreddit'].unique()"
   ]
  },
  {
   "cell_type": "code",
   "execution_count": 29,
   "id": "762b7c54-7fe4-4225-8012-fc6c166302a8",
   "metadata": {
    "tags": []
   },
   "outputs": [],
   "source": [
    "# Saved this duplicate-free DataFrame to a .csv file.\n",
    "subreddit_a_part_one.to_csv('../data/subreddit_a.csv', index=False)"
   ]
  },
  {
   "cell_type": "code",
   "execution_count": 30,
   "id": "ad064c1b-5d81-4566-ae54-0e2825476a83",
   "metadata": {},
   "outputs": [],
   "source": [
    "# Called the get_posts function with Subreddit B and UTC from Thursday, April 28, 2022 (the same one utilized for pulling posts from Subreddit A).\n",
    "subreddit_b_part_one = get_posts('DebateVaccines', 1651177777)"
   ]
  },
  {
   "cell_type": "code",
   "execution_count": 31,
   "id": "d2347d8b-3fe2-4987-9b9c-615cb69eb4b7",
   "metadata": {},
   "outputs": [
    {
     "data": {
      "text/plain": [
       "pandas.core.frame.DataFrame"
      ]
     },
     "execution_count": 31,
     "metadata": {},
     "output_type": "execute_result"
    }
   ],
   "source": [
    "# Verified that the result of calling the function was of type DataFrame.\n",
    "type(subreddit_b_part_one)"
   ]
  },
  {
   "cell_type": "code",
   "execution_count": 32,
   "id": "6d19f17f-8b48-4376-a027-ada8d15e5de9",
   "metadata": {},
   "outputs": [
    {
     "data": {
      "text/plain": [
       "(6968, 88)"
      ]
     },
     "execution_count": 32,
     "metadata": {},
     "output_type": "execute_result"
    }
   ],
   "source": [
    "# Looked at the shape of the DataFrame created by attempting to scrape 7000 posts from Subreddit B.  There were 88 columns, one of which was 'title'.\n",
    "subreddit_b_part_one.shape"
   ]
  },
  {
   "cell_type": "code",
   "execution_count": 33,
   "id": "a50bf565-99a0-4355-8255-cf27942bbb1f",
   "metadata": {},
   "outputs": [
    {
     "data": {
      "text/plain": [
       "136"
      ]
     },
     "execution_count": 33,
     "metadata": {},
     "output_type": "execute_result"
    }
   ],
   "source": [
    "# Obtained the sum of duplicate titles in the DataFrame.\n",
    "subreddit_b_part_one['title'].duplicated().sum()"
   ]
  },
  {
   "cell_type": "code",
   "execution_count": 34,
   "id": "74c81dc0-d06c-4b1d-b61f-75f5d2044c64",
   "metadata": {},
   "outputs": [],
   "source": [
    "# Dropped the 136 duplicate titles from the DataFrame.\n",
    "subreddit_b_part_one = subreddit_b_part_one.drop_duplicates(subset=['title'], keep = 'last')"
   ]
  },
  {
   "cell_type": "code",
   "execution_count": 35,
   "id": "f69c42c0-fd6c-4ce1-b688-a69800d2232a",
   "metadata": {},
   "outputs": [
    {
     "data": {
      "text/plain": [
       "{'author_created_utc',\n",
       " 'author_flair_template_id',\n",
       " 'author_id',\n",
       " 'brand_safe',\n",
       " 'distinguished',\n",
       " 'gilded',\n",
       " 'media_embed',\n",
       " 'og_description',\n",
       " 'og_title',\n",
       " 'poll_data',\n",
       " 'removed_by',\n",
       " 'rte_mode',\n",
       " 'secure_media_embed',\n",
       " 'steward_reports',\n",
       " 'suggested_sort',\n",
       " 'updated_utc'}"
      ]
     },
     "execution_count": 35,
     "metadata": {},
     "output_type": "execute_result"
    }
   ],
   "source": [
    "# Before concatenating the two DataFrames, I needed to discover which columns were only present in one DataFrame and not the other so that I could then drop these columns.\n",
    "set(subreddit_b_part_one.columns) - set(subreddit_a_part_one.columns)"
   ]
  },
  {
   "cell_type": "code",
   "execution_count": 36,
   "id": "b042e966-0d4b-4c05-adce-32369ad7e8b7",
   "metadata": {},
   "outputs": [],
   "source": [
    "# Dropped the columns that were only present in one DataFrame and not the other.\n",
    "subreddit_b_part_one = subreddit_b_part_one.drop(columns=[\n",
    "    'author_created_utc',\n",
    "    'author_flair_template_id',\n",
    "    'author_id',\n",
    "    'brand_safe',\n",
    "    'distinguished',\n",
    "    'gilded',\n",
    "    'media_embed',\n",
    "    'og_description',\n",
    "    'og_title',\n",
    "    'poll_data',\n",
    "    'removed_by',\n",
    "    'rte_mode',\n",
    "    'secure_media_embed',\n",
    "    'steward_reports',\n",
    "    'suggested_sort',\n",
    "    'updated_utc'])"
   ]
  },
  {
   "cell_type": "code",
   "execution_count": 37,
   "id": "ac7fce4e-a64d-43c1-aba2-c41006264d41",
   "metadata": {},
   "outputs": [
    {
     "data": {
      "text/plain": [
       "set()"
      ]
     },
     "execution_count": 37,
     "metadata": {},
     "output_type": "execute_result"
    }
   ],
   "source": [
    "# Confirmed that after dropping those columns, both DataFrames contained the same columns.\n",
    "set(subreddit_b_part_one.columns) - set(subreddit_a_part_one.columns)"
   ]
  },
  {
   "cell_type": "code",
   "execution_count": 38,
   "id": "c630cffc-3a77-442e-b44d-15e2d9be5581",
   "metadata": {},
   "outputs": [
    {
     "data": {
      "text/plain": [
       "array(['DebateVaccines'], dtype=object)"
      ]
     },
     "execution_count": 38,
     "metadata": {},
     "output_type": "execute_result"
    }
   ],
   "source": [
    "# Confirmed that the only value of the 'subreddit' column in this DataFrame was \"DebateVaccines\".\n",
    "subreddit_b_part_one['subreddit'].unique()"
   ]
  },
  {
   "cell_type": "code",
   "execution_count": 39,
   "id": "cd287ea8-fa61-4e7c-b9f5-5d226debd80d",
   "metadata": {},
   "outputs": [],
   "source": [
    "# Saved this duplicate-free DataFrame to a .csv file.\n",
    "subreddit_b_part_one.to_csv('../data/subreddit_b.csv', index=False)"
   ]
  }
 ],
 "metadata": {
  "kernelspec": {
   "display_name": "Python 3 (ipykernel)",
   "language": "python",
   "name": "python3"
  },
  "language_info": {
   "codemirror_mode": {
    "name": "ipython",
    "version": 3
   },
   "file_extension": ".py",
   "mimetype": "text/x-python",
   "name": "python",
   "nbconvert_exporter": "python",
   "pygments_lexer": "ipython3",
   "version": "3.9.7"
  }
 },
 "nbformat": 4,
 "nbformat_minor": 5
}
