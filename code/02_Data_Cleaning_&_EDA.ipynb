{
 "cells": [
  {
   "cell_type": "code",
   "execution_count": 1,
   "id": "25e961db-5457-43b3-a2b4-cd40f2f0d613",
   "metadata": {},
   "outputs": [],
   "source": [
    "# Imported all of the modules I would need to utilize.  I commented out Plotly, since it is not available in my base environment, which is what I always use except for when creating Plotly visualizations.\n",
    "\n",
    "import matplotlib.pyplot as plt\n",
    "import numpy as np\n",
    "import pandas as pd\n",
    "# import plotly\n",
    "# import plotly.express as px\n",
    "import seaborn as sns\n",
    "\n",
    "from sklearn.feature_extraction.text import CountVectorizer\n",
    "\n",
    "# This setting widens how many characters Pandas will display in a column:\n",
    "pd.options.display.max_colwidth = 400"
   ]
  },
  {
   "cell_type": "markdown",
   "id": "c5a591a6-5590-418c-bcba-8a9f8c73945a",
   "metadata": {
    "tags": []
   },
   "source": [
    "## **Data Cleaning**"
   ]
  },
  {
   "cell_type": "code",
   "execution_count": 2,
   "id": "9bc6b88c-368a-4cc0-ba94-bd12e0b1d402",
   "metadata": {
    "tags": []
   },
   "outputs": [],
   "source": [
    "# Created a DataFrame from the .csv file I saved with Subreddit A's pulled posts.\n",
    "subreddit_a_part_one = pd.read_csv('./data/subreddit_a.csv')"
   ]
  },
  {
   "cell_type": "code",
   "execution_count": 3,
   "id": "861f596a-5ce3-4b44-8bdf-55113a8cdc28",
   "metadata": {},
   "outputs": [],
   "source": [
    "# Created a DataFrame from the .csv file I saved with Subreddit B's pulled posts.\n",
    "subreddit_b_part_one = pd.read_csv('./data/subreddit_b.csv')"
   ]
  },
  {
   "cell_type": "code",
   "execution_count": 4,
   "id": "9edf2c87-b351-4a60-b252-ff77c5264d1d",
   "metadata": {},
   "outputs": [],
   "source": [
    "# Concatenated both of the above DataFrames and saved the resulting DataFrame as \"reddit\"\n",
    "reddit = pd.concat([subreddit_a_part_one, subreddit_b_part_one])"
   ]
  },
  {
   "cell_type": "code",
   "execution_count": 5,
   "id": "0a42b9e4-a15b-4917-b04d-4dc5a9622fd6",
   "metadata": {},
   "outputs": [
    {
     "data": {
      "text/plain": [
       "(13567, 73)"
      ]
     },
     "execution_count": 5,
     "metadata": {},
     "output_type": "execute_result"
    }
   ],
   "source": [
    "# Looked at the shape of the concatenated DataFrame.\n",
    "reddit.shape"
   ]
  },
  {
   "cell_type": "code",
   "execution_count": 6,
   "id": "864c4456-800d-40b5-921c-e3519e9836c7",
   "metadata": {},
   "outputs": [],
   "source": [
    "# Reset the index of this concatenated DataFrame and saved the results inplace.\n",
    "reddit.reset_index(inplace = True, drop = True)"
   ]
  },
  {
   "cell_type": "code",
   "execution_count": 7,
   "id": "f4b6ba35-6bc9-4f75-a895-bef20ca60c20",
   "metadata": {},
   "outputs": [
    {
     "data": {
      "text/plain": [
       "(13567, 73)"
      ]
     },
     "execution_count": 7,
     "metadata": {},
     "output_type": "execute_result"
    }
   ],
   "source": [
    "# Confirmed that the shape of the DataFrame had not changed.\n",
    "reddit.shape"
   ]
  },
  {
   "cell_type": "code",
   "execution_count": 8,
   "id": "f87701f1-0d44-4c2a-9cb1-8cfb7724e11f",
   "metadata": {},
   "outputs": [],
   "source": [
    "# Created a new DataFrame named \"subreddits\" which contained only two of the 73 columns in the concatenated reddit DataFrame.  These two columns would serve as my feature and my label.\n",
    "subreddits = reddit[['title', 'subreddit']]"
   ]
  },
  {
   "cell_type": "code",
   "execution_count": 9,
   "id": "6cc3020f-1b3a-448e-bc5f-084f7a81a5cf",
   "metadata": {},
   "outputs": [
    {
     "data": {
      "text/plain": [
       "pandas.core.frame.DataFrame"
      ]
     },
     "execution_count": 9,
     "metadata": {},
     "output_type": "execute_result"
    }
   ],
   "source": [
    "# Verified that \"subreddits\" data type was a DataFrame.\n",
    "type(subreddits)"
   ]
  },
  {
   "cell_type": "code",
   "execution_count": 10,
   "id": "7a3a9094-cc96-4a98-bee8-a101b30dc1df",
   "metadata": {},
   "outputs": [
    {
     "data": {
      "text/plain": [
       "title        0\n",
       "subreddit    0\n",
       "dtype: int64"
      ]
     },
     "execution_count": 10,
     "metadata": {},
     "output_type": "execute_result"
    }
   ],
   "source": [
    "# Counted the number of missing values in either of the DataFrame's two columns and realized there were none.\n",
    "subreddits.isna().sum()"
   ]
  },
  {
   "cell_type": "code",
   "execution_count": 11,
   "id": "1f52f057-ed21-4511-b0b3-f67ce592ba2c",
   "metadata": {},
   "outputs": [],
   "source": [
    "# Proceeded to save this new DataFrame (with only the feature and target columns) as a .csv file.\n",
    "subreddits.to_csv('./data/subreddits.csv', index=False)"
   ]
  },
  {
   "cell_type": "markdown",
   "id": "bf73e296-b33d-43af-ad2f-ddc459ffb562",
   "metadata": {
    "tags": []
   },
   "source": [
    "## **Exploratory Data Analysis**"
   ]
  },
  {
   "cell_type": "code",
   "execution_count": 12,
   "id": "cba1664c-f553-4439-897d-6428b2a160f2",
   "metadata": {},
   "outputs": [],
   "source": [
    "#In order to perform Exploratory Data Analysis without altering the \"subreddits\" DataFrame, I created a copy of it and named it \"df_subreddits\"\n",
    "df_subreddits = subreddits"
   ]
  },
  {
   "cell_type": "code",
   "execution_count": 13,
   "id": "f4dae347-a76c-4c23-a77a-2ea3e5b189f6",
   "metadata": {},
   "outputs": [
    {
     "data": {
      "text/plain": [
       "pandas.core.frame.DataFrame"
      ]
     },
     "execution_count": 13,
     "metadata": {},
     "output_type": "execute_result"
    }
   ],
   "source": [
    "# Verified that \"df_subreddits\" was of type DataFrame.\n",
    "type(df_subreddits)"
   ]
  },
  {
   "cell_type": "code",
   "execution_count": 14,
   "id": "dc1438b8-8337-4571-8bfe-2d19e2de2a3c",
   "metadata": {},
   "outputs": [
    {
     "data": {
      "text/plain": [
       "DebateVaccines     6832\n",
       "CovidVaccinated    6735\n",
       "Name: subreddit, dtype: int64"
      ]
     },
     "execution_count": 14,
     "metadata": {},
     "output_type": "execute_result"
    }
   ],
   "source": [
    "# Looked at the value counts of the \"subreddit\" column.\n",
    "df_subreddits['subreddit'].value_counts()"
   ]
  },
  {
   "cell_type": "code",
   "execution_count": 15,
   "id": "7ccba3f3-cfd2-4c75-ae2c-d25b58c10433",
   "metadata": {},
   "outputs": [
    {
     "data": {
      "text/plain": [
       "(13567, 2)"
      ]
     },
     "execution_count": 15,
     "metadata": {},
     "output_type": "execute_result"
    }
   ],
   "source": [
    "# Looked at the shape of the \"df_subreddits\" DataFrame.\n",
    "df_subreddits.shape"
   ]
  },
  {
   "cell_type": "code",
   "execution_count": 16,
   "id": "f874d8bf-15e3-4620-adb7-c509e4762687",
   "metadata": {},
   "outputs": [
    {
     "name": "stdout",
     "output_type": "stream",
     "text": [
      "<class 'pandas.core.frame.DataFrame'>\n",
      "RangeIndex: 13567 entries, 0 to 13566\n",
      "Data columns (total 2 columns):\n",
      " #   Column     Non-Null Count  Dtype \n",
      "---  ------     --------------  ----- \n",
      " 0   title      13567 non-null  object\n",
      " 1   subreddit  13567 non-null  object\n",
      "dtypes: object(2)\n",
      "memory usage: 212.1+ KB\n"
     ]
    }
   ],
   "source": [
    "# Made use of the .info() method in order to obtain information about the DataFrame and its two columns.\n",
    "df_subreddits.info()"
   ]
  },
  {
   "cell_type": "code",
   "execution_count": 17,
   "id": "88c8cfb0-2167-442d-abc8-41f38cb1aefb",
   "metadata": {},
   "outputs": [
    {
     "data": {
      "text/html": [
       "<div>\n",
       "<style scoped>\n",
       "    .dataframe tbody tr th:only-of-type {\n",
       "        vertical-align: middle;\n",
       "    }\n",
       "\n",
       "    .dataframe tbody tr th {\n",
       "        vertical-align: top;\n",
       "    }\n",
       "\n",
       "    .dataframe thead th {\n",
       "        text-align: right;\n",
       "    }\n",
       "</style>\n",
       "<table border=\"1\" class=\"dataframe\">\n",
       "  <thead>\n",
       "    <tr style=\"text-align: right;\">\n",
       "      <th></th>\n",
       "      <th>title</th>\n",
       "      <th>subreddit</th>\n",
       "    </tr>\n",
       "  </thead>\n",
       "  <tbody>\n",
       "    <tr>\n",
       "      <th>0</th>\n",
       "      <td>4 months post booster and i have &amp;gt;2500 spike antibodies.</td>\n",
       "      <td>CovidVaccinated</td>\n",
       "    </tr>\n",
       "    <tr>\n",
       "      <th>1</th>\n",
       "      <td>If you got the COVID vaccine(s), but were originally skeptical or against getting it, what changed your mind?</td>\n",
       "      <td>CovidVaccinated</td>\n",
       "    </tr>\n",
       "    <tr>\n",
       "      <th>2</th>\n",
       "      <td>Nasty cough after booster (Moderna) / experience with side effects ?</td>\n",
       "      <td>CovidVaccinated</td>\n",
       "    </tr>\n",
       "    <tr>\n",
       "      <th>3</th>\n",
       "      <td>Getting another booster after experiencing myo/pericarditis.</td>\n",
       "      <td>CovidVaccinated</td>\n",
       "    </tr>\n",
       "    <tr>\n",
       "      <th>4</th>\n",
       "      <td>why do so many people say not to get jj?</td>\n",
       "      <td>CovidVaccinated</td>\n",
       "    </tr>\n",
       "    <tr>\n",
       "      <th>5</th>\n",
       "      <td>what to do other than stay hydrated after getting the shot while your body is making antibodies, doing it’s thing or whatever?.. any vitamins, etc. should take? what else?</td>\n",
       "      <td>CovidVaccinated</td>\n",
       "    </tr>\n",
       "    <tr>\n",
       "      <th>6</th>\n",
       "      <td>to the younger individuals here (late teens, early 20’s).. what vaccination did you get and what were your side effects?</td>\n",
       "      <td>CovidVaccinated</td>\n",
       "    </tr>\n",
       "    <tr>\n",
       "      <th>7</th>\n",
       "      <td>When should a 12 year old get a booster shot?</td>\n",
       "      <td>CovidVaccinated</td>\n",
       "    </tr>\n",
       "    <tr>\n",
       "      <th>8</th>\n",
       "      <td>which vaxx should i get?</td>\n",
       "      <td>CovidVaccinated</td>\n",
       "    </tr>\n",
       "    <tr>\n",
       "      <th>9</th>\n",
       "      <td>Vaccinated couple doesn’t allow unvaccinated maternal grandmother to see newborn!! What would you do?</td>\n",
       "      <td>CovidVaccinated</td>\n",
       "    </tr>\n",
       "  </tbody>\n",
       "</table>\n",
       "</div>"
      ],
      "text/plain": [
       "                                                                                                                                                                         title  \\\n",
       "0                                                                                                                  4 months post booster and i have &gt;2500 spike antibodies.   \n",
       "1                                                                If you got the COVID vaccine(s), but were originally skeptical or against getting it, what changed your mind?   \n",
       "2                                                                                                         Nasty cough after booster (Moderna) / experience with side effects ?   \n",
       "3                                                                                                                 Getting another booster after experiencing myo/pericarditis.   \n",
       "4                                                                                                                                     why do so many people say not to get jj?   \n",
       "5  what to do other than stay hydrated after getting the shot while your body is making antibodies, doing it’s thing or whatever?.. any vitamins, etc. should take? what else?   \n",
       "6                                                     to the younger individuals here (late teens, early 20’s).. what vaccination did you get and what were your side effects?   \n",
       "7                                                                                                                                When should a 12 year old get a booster shot?   \n",
       "8                                                                                                                                                     which vaxx should i get?   \n",
       "9                                                                        Vaccinated couple doesn’t allow unvaccinated maternal grandmother to see newborn!! What would you do?   \n",
       "\n",
       "         subreddit  \n",
       "0  CovidVaccinated  \n",
       "1  CovidVaccinated  \n",
       "2  CovidVaccinated  \n",
       "3  CovidVaccinated  \n",
       "4  CovidVaccinated  \n",
       "5  CovidVaccinated  \n",
       "6  CovidVaccinated  \n",
       "7  CovidVaccinated  \n",
       "8  CovidVaccinated  \n",
       "9  CovidVaccinated  "
      ]
     },
     "execution_count": 17,
     "metadata": {},
     "output_type": "execute_result"
    }
   ],
   "source": [
    "# Looked at the top 10 rows of the newly created \"df_subreddits\" DataFrame.\n",
    "df_subreddits.head(10)"
   ]
  },
  {
   "cell_type": "code",
   "execution_count": 18,
   "id": "e958f642-75c4-4ee8-9f94-579ccef9e845",
   "metadata": {},
   "outputs": [
    {
     "data": {
      "text/html": [
       "<div>\n",
       "<style scoped>\n",
       "    .dataframe tbody tr th:only-of-type {\n",
       "        vertical-align: middle;\n",
       "    }\n",
       "\n",
       "    .dataframe tbody tr th {\n",
       "        vertical-align: top;\n",
       "    }\n",
       "\n",
       "    .dataframe thead th {\n",
       "        text-align: right;\n",
       "    }\n",
       "</style>\n",
       "<table border=\"1\" class=\"dataframe\">\n",
       "  <thead>\n",
       "    <tr style=\"text-align: right;\">\n",
       "      <th></th>\n",
       "      <th>title</th>\n",
       "      <th>subreddit</th>\n",
       "    </tr>\n",
       "  </thead>\n",
       "  <tbody>\n",
       "    <tr>\n",
       "      <th>13557</th>\n",
       "      <td>How to Recognize Logical Fallacies Commonly Encountered In the Vaccine Debate</td>\n",
       "      <td>DebateVaccines</td>\n",
       "    </tr>\n",
       "    <tr>\n",
       "      <th>13558</th>\n",
       "      <td>Correlation Does Not Equal Causation, Yet Neither Does Correlation Preclude Causation.</td>\n",
       "      <td>DebateVaccines</td>\n",
       "    </tr>\n",
       "    <tr>\n",
       "      <th>13559</th>\n",
       "      <td>Avoid links by u/EnoughNoLibsSpam. She never cites sources, fires fallacies at 500 rounds per minute, and thinks a screenshot of a single line of a study is sufficient evidence.</td>\n",
       "      <td>DebateVaccines</td>\n",
       "    </tr>\n",
       "    <tr>\n",
       "      <th>13560</th>\n",
       "      <td>The death-bed confession of Louis Pasteur, \"Bernard was right; i was wrong. the pathogen is nothing; the terrain is everything.\"</td>\n",
       "      <td>DebateVaccines</td>\n",
       "    </tr>\n",
       "    <tr>\n",
       "      <th>13561</th>\n",
       "      <td>The so-called \"booster shot\" is proof that vaccines usually do not work on the first try, and even if they do work sometimes, their effect is short lived and probably not worth the risk over the long term. Do you plan on getting \"booster\" shots the rest of your life? i know i don't</td>\n",
       "      <td>DebateVaccines</td>\n",
       "    </tr>\n",
       "    <tr>\n",
       "      <th>13562</th>\n",
       "      <td>Thought terminating cliché - Please familiarize yourself with these, and call people out when you see them using these, and reference this posting in your reply to them</td>\n",
       "      <td>DebateVaccines</td>\n",
       "    </tr>\n",
       "    <tr>\n",
       "      <th>13563</th>\n",
       "      <td>/r/confession - I use pseudo profiles on Facebook to out anti-vax parents to their friends and family</td>\n",
       "      <td>DebateVaccines</td>\n",
       "    </tr>\n",
       "    <tr>\n",
       "      <th>13564</th>\n",
       "      <td>/r/confessions - I use pseudo profiles on Facebook to out anti-vax parents to their friends and family</td>\n",
       "      <td>DebateVaccines</td>\n",
       "    </tr>\n",
       "    <tr>\n",
       "      <th>13565</th>\n",
       "      <td>How To Out A Vaccine Shill. Start talking about serious side effects of vaccines, to hook them into a vaccine debate...</td>\n",
       "      <td>DebateVaccines</td>\n",
       "    </tr>\n",
       "    <tr>\n",
       "      <th>13566</th>\n",
       "      <td>Vaccine Shill Formula: \"Not everyone can benefit from taking vaccines, therefore everyone else must take vaccines\"</td>\n",
       "      <td>DebateVaccines</td>\n",
       "    </tr>\n",
       "  </tbody>\n",
       "</table>\n",
       "</div>"
      ],
      "text/plain": [
       "                                                                                                                                                                                                                                                                                            title  \\\n",
       "13557                                                                                                                                                                                                               How to Recognize Logical Fallacies Commonly Encountered In the Vaccine Debate   \n",
       "13558                                                                                                                                                                                                      Correlation Does Not Equal Causation, Yet Neither Does Correlation Preclude Causation.   \n",
       "13559                                                                                                           Avoid links by u/EnoughNoLibsSpam. She never cites sources, fires fallacies at 500 rounds per minute, and thinks a screenshot of a single line of a study is sufficient evidence.   \n",
       "13560                                                                                                                                                            The death-bed confession of Louis Pasteur, \"Bernard was right; i was wrong. the pathogen is nothing; the terrain is everything.\"   \n",
       "13561  The so-called \"booster shot\" is proof that vaccines usually do not work on the first try, and even if they do work sometimes, their effect is short lived and probably not worth the risk over the long term. Do you plan on getting \"booster\" shots the rest of your life? i know i don't   \n",
       "13562                                                                                                                    Thought terminating cliché - Please familiarize yourself with these, and call people out when you see them using these, and reference this posting in your reply to them   \n",
       "13563                                                                                                                                                                                       /r/confession - I use pseudo profiles on Facebook to out anti-vax parents to their friends and family   \n",
       "13564                                                                                                                                                                                      /r/confessions - I use pseudo profiles on Facebook to out anti-vax parents to their friends and family   \n",
       "13565                                                                                                                                                                     How To Out A Vaccine Shill. Start talking about serious side effects of vaccines, to hook them into a vaccine debate...   \n",
       "13566                                                                                                                                                                          Vaccine Shill Formula: \"Not everyone can benefit from taking vaccines, therefore everyone else must take vaccines\"   \n",
       "\n",
       "            subreddit  \n",
       "13557  DebateVaccines  \n",
       "13558  DebateVaccines  \n",
       "13559  DebateVaccines  \n",
       "13560  DebateVaccines  \n",
       "13561  DebateVaccines  \n",
       "13562  DebateVaccines  \n",
       "13563  DebateVaccines  \n",
       "13564  DebateVaccines  \n",
       "13565  DebateVaccines  \n",
       "13566  DebateVaccines  "
      ]
     },
     "execution_count": 18,
     "metadata": {},
     "output_type": "execute_result"
    }
   ],
   "source": [
    "# Looked at the last 10 rows of the newly created \"df_subreddits\" DataFrame.\n",
    "df_subreddits.tail(10)"
   ]
  },
  {
   "cell_type": "code",
   "execution_count": 19,
   "id": "dc1575de-2a77-456d-8a91-22c1cc2aec6e",
   "metadata": {},
   "outputs": [
    {
     "name": "stderr",
     "output_type": "stream",
     "text": [
      "/var/folders/xq/q86jqrbx6877l6458n2ldnkr0000gn/T/ipykernel_5259/1305164430.py:1: SettingWithCopyWarning: \n",
      "A value is trying to be set on a copy of a slice from a DataFrame.\n",
      "Try using .loc[row_indexer,col_indexer] = value instead\n",
      "\n",
      "See the caveats in the documentation: https://pandas.pydata.org/pandas-docs/stable/user_guide/indexing.html#returning-a-view-versus-a-copy\n",
      "  df_subreddits['title_char_length'] = df_subreddits['title'].apply(len)\n"
     ]
    }
   ],
   "source": [
    "# Created a new column named 'title_char_length' which contained the character length of each title.\n",
    "df_subreddits['title_char_length'] = df_subreddits['title'].apply(len)"
   ]
  },
  {
   "cell_type": "code",
   "execution_count": 20,
   "id": "fc25876a-f674-4d9c-9902-dba620339afd",
   "metadata": {},
   "outputs": [
    {
     "data": {
      "text/html": [
       "<div>\n",
       "<style scoped>\n",
       "    .dataframe tbody tr th:only-of-type {\n",
       "        vertical-align: middle;\n",
       "    }\n",
       "\n",
       "    .dataframe tbody tr th {\n",
       "        vertical-align: top;\n",
       "    }\n",
       "\n",
       "    .dataframe thead th {\n",
       "        text-align: right;\n",
       "    }\n",
       "</style>\n",
       "<table border=\"1\" class=\"dataframe\">\n",
       "  <thead>\n",
       "    <tr style=\"text-align: right;\">\n",
       "      <th></th>\n",
       "      <th>title</th>\n",
       "      <th>subreddit</th>\n",
       "      <th>title_char_length</th>\n",
       "    </tr>\n",
       "  </thead>\n",
       "  <tbody>\n",
       "    <tr>\n",
       "      <th>0</th>\n",
       "      <td>4 months post booster and i have &amp;gt;2500 spike antibodies.</td>\n",
       "      <td>CovidVaccinated</td>\n",
       "      <td>59</td>\n",
       "    </tr>\n",
       "    <tr>\n",
       "      <th>1</th>\n",
       "      <td>If you got the COVID vaccine(s), but were originally skeptical or against getting it, what changed your mind?</td>\n",
       "      <td>CovidVaccinated</td>\n",
       "      <td>109</td>\n",
       "    </tr>\n",
       "    <tr>\n",
       "      <th>2</th>\n",
       "      <td>Nasty cough after booster (Moderna) / experience with side effects ?</td>\n",
       "      <td>CovidVaccinated</td>\n",
       "      <td>68</td>\n",
       "    </tr>\n",
       "    <tr>\n",
       "      <th>3</th>\n",
       "      <td>Getting another booster after experiencing myo/pericarditis.</td>\n",
       "      <td>CovidVaccinated</td>\n",
       "      <td>60</td>\n",
       "    </tr>\n",
       "    <tr>\n",
       "      <th>4</th>\n",
       "      <td>why do so many people say not to get jj?</td>\n",
       "      <td>CovidVaccinated</td>\n",
       "      <td>40</td>\n",
       "    </tr>\n",
       "  </tbody>\n",
       "</table>\n",
       "</div>"
      ],
      "text/plain": [
       "                                                                                                           title  \\\n",
       "0                                                    4 months post booster and i have &gt;2500 spike antibodies.   \n",
       "1  If you got the COVID vaccine(s), but were originally skeptical or against getting it, what changed your mind?   \n",
       "2                                           Nasty cough after booster (Moderna) / experience with side effects ?   \n",
       "3                                                   Getting another booster after experiencing myo/pericarditis.   \n",
       "4                                                                       why do so many people say not to get jj?   \n",
       "\n",
       "         subreddit  title_char_length  \n",
       "0  CovidVaccinated                 59  \n",
       "1  CovidVaccinated                109  \n",
       "2  CovidVaccinated                 68  \n",
       "3  CovidVaccinated                 60  \n",
       "4  CovidVaccinated                 40  "
      ]
     },
     "execution_count": 20,
     "metadata": {},
     "output_type": "execute_result"
    }
   ],
   "source": [
    "# Looked at the top 5 rows of the df_subreddits DataFrame to confirm the presence of the newly created column.\n",
    "df_subreddits.head()"
   ]
  },
  {
   "cell_type": "code",
   "execution_count": 21,
   "id": "b4c89937-6348-41a3-a99f-ff01c600b9ef",
   "metadata": {},
   "outputs": [],
   "source": [
    "# Obtained white space counter function from: https://www.geeksforgeeks.org/python-program-to-count-the-number-of-spaces-in-string/\n",
    "# Created a function named \"check_space\" that counted the number of spaces in each title and added 1 to obtain the total number of words.\n",
    "def check_space(Test_string):\n",
    "    return Test_string.count(\" \") + 1"
   ]
  },
  {
   "cell_type": "code",
   "execution_count": 22,
   "id": "d3873dc6-f605-475e-9a37-a9340edaf692",
   "metadata": {
    "tags": []
   },
   "outputs": [
    {
     "name": "stderr",
     "output_type": "stream",
     "text": [
      "/var/folders/xq/q86jqrbx6877l6458n2ldnkr0000gn/T/ipykernel_5259/1987584136.py:1: SettingWithCopyWarning: \n",
      "A value is trying to be set on a copy of a slice from a DataFrame.\n",
      "Try using .loc[row_indexer,col_indexer] = value instead\n",
      "\n",
      "See the caveats in the documentation: https://pandas.pydata.org/pandas-docs/stable/user_guide/indexing.html#returning-a-view-versus-a-copy\n",
      "  df_subreddits['title_word_count'] = df_subreddits['title'].apply(check_space)\n"
     ]
    }
   ],
   "source": [
    "# Created a new column named 'title_word_count' which contained each title's word count.\n",
    "df_subreddits['title_word_count'] = df_subreddits['title'].apply(check_space)"
   ]
  },
  {
   "cell_type": "code",
   "execution_count": 23,
   "id": "2b95dd62-0b76-41c4-b496-b5064c56e733",
   "metadata": {},
   "outputs": [
    {
     "data": {
      "text/html": [
       "<div>\n",
       "<style scoped>\n",
       "    .dataframe tbody tr th:only-of-type {\n",
       "        vertical-align: middle;\n",
       "    }\n",
       "\n",
       "    .dataframe tbody tr th {\n",
       "        vertical-align: top;\n",
       "    }\n",
       "\n",
       "    .dataframe thead th {\n",
       "        text-align: right;\n",
       "    }\n",
       "</style>\n",
       "<table border=\"1\" class=\"dataframe\">\n",
       "  <thead>\n",
       "    <tr style=\"text-align: right;\">\n",
       "      <th></th>\n",
       "      <th>title</th>\n",
       "      <th>subreddit</th>\n",
       "      <th>title_char_length</th>\n",
       "      <th>title_word_count</th>\n",
       "    </tr>\n",
       "  </thead>\n",
       "  <tbody>\n",
       "    <tr>\n",
       "      <th>0</th>\n",
       "      <td>4 months post booster and i have &amp;gt;2500 spike antibodies.</td>\n",
       "      <td>CovidVaccinated</td>\n",
       "      <td>59</td>\n",
       "      <td>10</td>\n",
       "    </tr>\n",
       "    <tr>\n",
       "      <th>1</th>\n",
       "      <td>If you got the COVID vaccine(s), but were originally skeptical or against getting it, what changed your mind?</td>\n",
       "      <td>CovidVaccinated</td>\n",
       "      <td>109</td>\n",
       "      <td>18</td>\n",
       "    </tr>\n",
       "    <tr>\n",
       "      <th>2</th>\n",
       "      <td>Nasty cough after booster (Moderna) / experience with side effects ?</td>\n",
       "      <td>CovidVaccinated</td>\n",
       "      <td>68</td>\n",
       "      <td>11</td>\n",
       "    </tr>\n",
       "    <tr>\n",
       "      <th>3</th>\n",
       "      <td>Getting another booster after experiencing myo/pericarditis.</td>\n",
       "      <td>CovidVaccinated</td>\n",
       "      <td>60</td>\n",
       "      <td>6</td>\n",
       "    </tr>\n",
       "    <tr>\n",
       "      <th>4</th>\n",
       "      <td>why do so many people say not to get jj?</td>\n",
       "      <td>CovidVaccinated</td>\n",
       "      <td>40</td>\n",
       "      <td>10</td>\n",
       "    </tr>\n",
       "  </tbody>\n",
       "</table>\n",
       "</div>"
      ],
      "text/plain": [
       "                                                                                                           title  \\\n",
       "0                                                    4 months post booster and i have &gt;2500 spike antibodies.   \n",
       "1  If you got the COVID vaccine(s), but were originally skeptical or against getting it, what changed your mind?   \n",
       "2                                           Nasty cough after booster (Moderna) / experience with side effects ?   \n",
       "3                                                   Getting another booster after experiencing myo/pericarditis.   \n",
       "4                                                                       why do so many people say not to get jj?   \n",
       "\n",
       "         subreddit  title_char_length  title_word_count  \n",
       "0  CovidVaccinated                 59                10  \n",
       "1  CovidVaccinated                109                18  \n",
       "2  CovidVaccinated                 68                11  \n",
       "3  CovidVaccinated                 60                 6  \n",
       "4  CovidVaccinated                 40                10  "
      ]
     },
     "execution_count": 23,
     "metadata": {},
     "output_type": "execute_result"
    }
   ],
   "source": [
    "# Looked at the top 10 rows of the df_subreddits DataFrame to confirm the presence of the newly created column.\n",
    "df_subreddits.head()"
   ]
  },
  {
   "cell_type": "code",
   "execution_count": 24,
   "id": "a7687830-c8c6-419e-82e0-8e82f7da796b",
   "metadata": {},
   "outputs": [
    {
     "data": {
      "text/html": [
       "<div>\n",
       "<style scoped>\n",
       "    .dataframe tbody tr th:only-of-type {\n",
       "        vertical-align: middle;\n",
       "    }\n",
       "\n",
       "    .dataframe tbody tr th {\n",
       "        vertical-align: top;\n",
       "    }\n",
       "\n",
       "    .dataframe thead th {\n",
       "        text-align: right;\n",
       "    }\n",
       "</style>\n",
       "<table border=\"1\" class=\"dataframe\">\n",
       "  <thead>\n",
       "    <tr style=\"text-align: right;\">\n",
       "      <th></th>\n",
       "      <th>title</th>\n",
       "      <th>subreddit</th>\n",
       "      <th>title_char_length</th>\n",
       "      <th>title_word_count</th>\n",
       "    </tr>\n",
       "  </thead>\n",
       "  <tbody>\n",
       "    <tr>\n",
       "      <th>437</th>\n",
       "      <td>19 male I had real slight chest pain mainly on my left of my chest , I had my 2 shot on the 7th and went in the ER on the 10th I got 3 test done and they said everything looked perfect, it’s been a week and two days after my second does .. I’m still anxious even tho the pain is gone</td>\n",
       "      <td>CovidVaccinated</td>\n",
       "      <td>283</td>\n",
       "      <td>64</td>\n",
       "    </tr>\n",
       "    <tr>\n",
       "      <th>58</th>\n",
       "      <td>I am wanting to get my booster but I’m scared I’ll experience month long period like I did when I got the J&amp;amp;J vaccine. I don’t want to be on my period while on a cruise. I have been waiting for a 3 day weekend so I can rest and not have to worry about work, but my cruise is in 22 days 😭</td>\n",
       "      <td>CovidVaccinated</td>\n",
       "      <td>291</td>\n",
       "      <td>64</td>\n",
       "    </tr>\n",
       "    <tr>\n",
       "      <th>356</th>\n",
       "      <td>I turn 18 March 21st. I have a concert to go to the 17th. I just got invited to it. I need to be completely vaccinated for at least two weeks to enter. Which leaves me with the Johnson and Johnson one. But I hear you have to be 18 for that one. Can I get it? Or are they strict on that?</td>\n",
       "      <td>CovidVaccinated</td>\n",
       "      <td>286</td>\n",
       "      <td>63</td>\n",
       "    </tr>\n",
       "    <tr>\n",
       "      <th>442</th>\n",
       "      <td>So.. let me say this first before I ask my question. If you want to get vaxxed or not, I don’t really care. I feel like it’s a choice.. my 5 YO daughter just went for hers and refused. She was fine the first time but will not go for the second. I know people who have been holding their kids down.</td>\n",
       "      <td>CovidVaccinated</td>\n",
       "      <td>297</td>\n",
       "      <td>62</td>\n",
       "    </tr>\n",
       "    <tr>\n",
       "      <th>6054</th>\n",
       "      <td>What happens if you miss the 8 month Booster shot? I'd have to get it this month but still waiting to see if the pros outweigh the cons or if it is really needed. Don't want to end up have to get a whole 2 round Moderna shots if I miss the window but not ready to get the booster yet.</td>\n",
       "      <td>CovidVaccinated</td>\n",
       "      <td>284</td>\n",
       "      <td>61</td>\n",
       "    </tr>\n",
       "    <tr>\n",
       "      <th>1264</th>\n",
       "      <td>Last night my bf(24) and I (19 were cuddling in my living room we had been drinking but he didn’t drink that much, fast forward a few hours I’m pretty drunk and not fully conciois &amp;amp;trying to sleep, I wake up when I see my bf trying to pull down my leggings, I pushed away and pulled them back up and</td>\n",
       "      <td>CovidVaccinated</td>\n",
       "      <td>303</td>\n",
       "      <td>61</td>\n",
       "    </tr>\n",
       "    <tr>\n",
       "      <th>430</th>\n",
       "      <td>I’m at the er again I’ve had real slight stinging on both sides of my chest mainly on my left !!!! There is a lot of mfs telling me I won’t be fine but everytime I’m here and get tested with three different test everything comes back perfect I really don’t know what to believe and it’s fucking me up</td>\n",
       "      <td>CovidVaccinated</td>\n",
       "      <td>300</td>\n",
       "      <td>60</td>\n",
       "    </tr>\n",
       "    <tr>\n",
       "      <th>1676</th>\n",
       "      <td>Ik this sounds stupid but I’mfully vaccinated with the Pfizer vaccine and my boyfriend told me he had covid 4 days ago, I think I might of gotten it too because I had symptoms of runny nose and congestion, I want to hang out with him though what happens if I do? Can I kiss him or is that bad??</td>\n",
       "      <td>CovidVaccinated</td>\n",
       "      <td>294</td>\n",
       "      <td>60</td>\n",
       "    </tr>\n",
       "    <tr>\n",
       "      <th>12033</th>\n",
       "      <td>Just a heads up for any new \"anti vaxxers\" who are just getting awoken to the situation, if you aren't careful you'll get yourself very worked up, confused an anxious about it, and may waste a lot of energy in the wrong places. Please do not do what I did, which is to waste all my energy and -</td>\n",
       "      <td>DebateVaccines</td>\n",
       "      <td>294</td>\n",
       "      <td>59</td>\n",
       "    </tr>\n",
       "    <tr>\n",
       "      <th>1213</th>\n",
       "      <td>Hey new to Reddit and never done this before but I really need advice on this topic. I have sever anxiety with vaccines and get panic attacks every time I get shots. Does anybody have any advice on how I can prevent a panic attack can calm myself when I go in for this shot next week. Thank you.</td>\n",
       "      <td>CovidVaccinated</td>\n",
       "      <td>295</td>\n",
       "      <td>59</td>\n",
       "    </tr>\n",
       "  </tbody>\n",
       "</table>\n",
       "</div>"
      ],
      "text/plain": [
       "                                                                                                                                                                                                                                                                                                                 title  \\\n",
       "437                        19 male I had real slight chest pain mainly on my left of my chest , I had my 2 shot on the 7th and went in the ER on the 10th I got 3 test done and they said everything looked perfect, it’s been a week and two days after my second does .. I’m still anxious even tho the pain is gone   \n",
       "58                 I am wanting to get my booster but I’m scared I’ll experience month long period like I did when I got the J&amp;J vaccine. I don’t want to be on my period while on a cruise. I have been waiting for a 3 day weekend so I can rest and not have to worry about work, but my cruise is in 22 days 😭   \n",
       "356                     I turn 18 March 21st. I have a concert to go to the 17th. I just got invited to it. I need to be completely vaccinated for at least two weeks to enter. Which leaves me with the Johnson and Johnson one. But I hear you have to be 18 for that one. Can I get it? Or are they strict on that?   \n",
       "442          So.. let me say this first before I ask my question. If you want to get vaxxed or not, I don’t really care. I feel like it’s a choice.. my 5 YO daughter just went for hers and refused. She was fine the first time but will not go for the second. I know people who have been holding their kids down.   \n",
       "6054                      What happens if you miss the 8 month Booster shot? I'd have to get it this month but still waiting to see if the pros outweigh the cons or if it is really needed. Don't want to end up have to get a whole 2 round Moderna shots if I miss the window but not ready to get the booster yet.   \n",
       "1264   Last night my bf(24) and I (19 were cuddling in my living room we had been drinking but he didn’t drink that much, fast forward a few hours I’m pretty drunk and not fully conciois &amp;trying to sleep, I wake up when I see my bf trying to pull down my leggings, I pushed away and pulled them back up and   \n",
       "430       I’m at the er again I’ve had real slight stinging on both sides of my chest mainly on my left !!!! There is a lot of mfs telling me I won’t be fine but everytime I’m here and get tested with three different test everything comes back perfect I really don’t know what to believe and it’s fucking me up   \n",
       "1676            Ik this sounds stupid but I’mfully vaccinated with the Pfizer vaccine and my boyfriend told me he had covid 4 days ago, I think I might of gotten it too because I had symptoms of runny nose and congestion, I want to hang out with him though what happens if I do? Can I kiss him or is that bad??   \n",
       "12033           Just a heads up for any new \"anti vaxxers\" who are just getting awoken to the situation, if you aren't careful you'll get yourself very worked up, confused an anxious about it, and may waste a lot of energy in the wrong places. Please do not do what I did, which is to waste all my energy and -   \n",
       "1213           Hey new to Reddit and never done this before but I really need advice on this topic. I have sever anxiety with vaccines and get panic attacks every time I get shots. Does anybody have any advice on how I can prevent a panic attack can calm myself when I go in for this shot next week. Thank you.   \n",
       "\n",
       "             subreddit  title_char_length  title_word_count  \n",
       "437    CovidVaccinated                283                64  \n",
       "58     CovidVaccinated                291                64  \n",
       "356    CovidVaccinated                286                63  \n",
       "442    CovidVaccinated                297                62  \n",
       "6054   CovidVaccinated                284                61  \n",
       "1264   CovidVaccinated                303                61  \n",
       "430    CovidVaccinated                300                60  \n",
       "1676   CovidVaccinated                294                60  \n",
       "12033   DebateVaccines                294                59  \n",
       "1213   CovidVaccinated                295                59  "
      ]
     },
     "execution_count": 24,
     "metadata": {},
     "output_type": "execute_result"
    }
   ],
   "source": [
    "# Obtained the longest titles by word count.\n",
    "df_subreddits.sort_values(by = 'title_word_count', ascending=False).head(10)"
   ]
  },
  {
   "cell_type": "code",
   "execution_count": 25,
   "id": "3a7e6b12-2b23-4b5a-9606-ebda1ae4558e",
   "metadata": {},
   "outputs": [
    {
     "data": {
      "text/html": [
       "<div>\n",
       "<style scoped>\n",
       "    .dataframe tbody tr th:only-of-type {\n",
       "        vertical-align: middle;\n",
       "    }\n",
       "\n",
       "    .dataframe tbody tr th {\n",
       "        vertical-align: top;\n",
       "    }\n",
       "\n",
       "    .dataframe thead th {\n",
       "        text-align: right;\n",
       "    }\n",
       "</style>\n",
       "<table border=\"1\" class=\"dataframe\">\n",
       "  <thead>\n",
       "    <tr style=\"text-align: right;\">\n",
       "      <th></th>\n",
       "      <th>title</th>\n",
       "      <th>subreddit</th>\n",
       "      <th>title_char_length</th>\n",
       "      <th>title_word_count</th>\n",
       "    </tr>\n",
       "  </thead>\n",
       "  <tbody>\n",
       "    <tr>\n",
       "      <th>9478</th>\n",
       "      <td>Shocking video footage of violent protests against mandates, lockdowns (Guadaloupe, Denmark, Austria, Croatia, Germany): https://www.aljazeera.com/news/2021/11/22/covid-19-rules-fueled-explosive-unrest-in-guadeloupe-macron?utm_campaign=trueAnthem%3A%20Trending%20Content&amp;amp;utm_medium=trueAnthem&amp;amp;utm_sou</td>\n",
       "      <td>DebateVaccines</td>\n",
       "      <td>308</td>\n",
       "      <td>15</td>\n",
       "    </tr>\n",
       "    <tr>\n",
       "      <th>1027</th>\n",
       "      <td>Don’t be a victim Get your registered CDC, Order &amp;amp; Get NHS, mygov, and Medicare vaccines card/certificates or exemption Worldwide ,C0V!D l9 medication ivermectin tabs. Join &amp;amp; share https://t.me/+pYQ1Ic81O8o1OWI0 Telegram @nojabstoday Text; +1 ‪(210) 245-8347‬ WhatsApp- +1 (909) 318-3699 +(61)49919</td>\n",
       "      <td>CovidVaccinated</td>\n",
       "      <td>306</td>\n",
       "      <td>40</td>\n",
       "    </tr>\n",
       "    <tr>\n",
       "      <th>4605</th>\n",
       "      <td>I'd love to be able to provide my friend with solid, reasonable facts &amp;amp; points abt the vaccine to give her a different perspective so she can weigh her options &amp;amp; decide what to do in an open minded way. I'm hoping that all the lovely well informed ppl could list credible sources &amp;amp; good points.</td>\n",
       "      <td>CovidVaccinated</td>\n",
       "      <td>306</td>\n",
       "      <td>56</td>\n",
       "    </tr>\n",
       "    <tr>\n",
       "      <th>10565</th>\n",
       "      <td>When Vax Advocates post \"Irony Porn\" of famous people who didn't want to get the jab now sick with Covid, I wonder if they detect even the slightest bit of irony in the ever-increasing Vaxxed Breakthrough Hospitalizations &amp;amp; Deaths among people that tried to Shame, Coerce and Mandate the Spike Juice?</td>\n",
       "      <td>DebateVaccines</td>\n",
       "      <td>304</td>\n",
       "      <td>51</td>\n",
       "    </tr>\n",
       "    <tr>\n",
       "      <th>337</th>\n",
       "      <td>3 days after Moderna booster has anyone else experienced swollen lymph nodes in the neck. The same side where my nodes are swollen I’m experiencing sore gums, cheek and a tightness in my neck. I haven’t changed anything in my diet or done anything to cause &amp;amp; come to the conclusion it is the booster</td>\n",
       "      <td>CovidVaccinated</td>\n",
       "      <td>303</td>\n",
       "      <td>55</td>\n",
       "    </tr>\n",
       "    <tr>\n",
       "      <th>1264</th>\n",
       "      <td>Last night my bf(24) and I (19 were cuddling in my living room we had been drinking but he didn’t drink that much, fast forward a few hours I’m pretty drunk and not fully conciois &amp;amp;trying to sleep, I wake up when I see my bf trying to pull down my leggings, I pushed away and pulled them back up and</td>\n",
       "      <td>CovidVaccinated</td>\n",
       "      <td>303</td>\n",
       "      <td>61</td>\n",
       "    </tr>\n",
       "    <tr>\n",
       "      <th>10838</th>\n",
       "      <td>OK, If you absolutely Must Vax, which one is safest w least side effects - Pfizer, Moderna, J&amp;amp;J? (I believe these are the only choices in US until Novavax approval) J&amp;amp;J - one &amp;amp; done but clotting issues. Moderna more effective against D but more S.E. Pfizer less effective but safer. Discuss!</td>\n",
       "      <td>DebateVaccines</td>\n",
       "      <td>303</td>\n",
       "      <td>52</td>\n",
       "    </tr>\n",
       "    <tr>\n",
       "      <th>1148</th>\n",
       "      <td>Don’t be a victim Get your registered CDC, NHS, mygov, and Medicare vaccines card/certificates or exemption Worldwide ,C0V!D l9 medication ivermectin tabs. Join &amp;amp; share https://t.me/+pYQ1Ic81O8o1OWI0 Telegram @DrLydialane WhatsApp- +1 (909) 318-3699 +(61)499191682 +44 7888 889166 for verification</td>\n",
       "      <td>CovidVaccinated</td>\n",
       "      <td>301</td>\n",
       "      <td>38</td>\n",
       "    </tr>\n",
       "    <tr>\n",
       "      <th>1763</th>\n",
       "      <td>Freaking out, I’m fully vaccinated w/ the pfizer vaccine &amp;amp; am home from college visiting my family, my boyfriend just told me he tested positive for covid-19, he’s not vaccinated. I have been hanging out with him for 3 days, &amp;amp; kissing him, could I still get covid from him what are my chances,</td>\n",
       "      <td>CovidVaccinated</td>\n",
       "      <td>301</td>\n",
       "      <td>54</td>\n",
       "    </tr>\n",
       "    <tr>\n",
       "      <th>430</th>\n",
       "      <td>I’m at the er again I’ve had real slight stinging on both sides of my chest mainly on my left !!!! There is a lot of mfs telling me I won’t be fine but everytime I’m here and get tested with three different test everything comes back perfect I really don’t know what to believe and it’s fucking me up</td>\n",
       "      <td>CovidVaccinated</td>\n",
       "      <td>300</td>\n",
       "      <td>60</td>\n",
       "    </tr>\n",
       "  </tbody>\n",
       "</table>\n",
       "</div>"
      ],
      "text/plain": [
       "                                                                                                                                                                                                                                                                                                                      title  \\\n",
       "9478   Shocking video footage of violent protests against mandates, lockdowns (Guadaloupe, Denmark, Austria, Croatia, Germany): https://www.aljazeera.com/news/2021/11/22/covid-19-rules-fueled-explosive-unrest-in-guadeloupe-macron?utm_campaign=trueAnthem%3A%20Trending%20Content&amp;utm_medium=trueAnthem&amp;utm_sou   \n",
       "1027     Don’t be a victim Get your registered CDC, Order &amp; Get NHS, mygov, and Medicare vaccines card/certificates or exemption Worldwide ,C0V!D l9 medication ivermectin tabs. Join &amp; share https://t.me/+pYQ1Ic81O8o1OWI0 Telegram @nojabstoday Text; +1 ‪(210) 245-8347‬ WhatsApp- +1 (909) 318-3699 +(61)49919   \n",
       "4605     I'd love to be able to provide my friend with solid, reasonable facts &amp; points abt the vaccine to give her a different perspective so she can weigh her options &amp; decide what to do in an open minded way. I'm hoping that all the lovely well informed ppl could list credible sources &amp; good points.   \n",
       "10565      When Vax Advocates post \"Irony Porn\" of famous people who didn't want to get the jab now sick with Covid, I wonder if they detect even the slightest bit of irony in the ever-increasing Vaxxed Breakthrough Hospitalizations &amp; Deaths among people that tried to Shame, Coerce and Mandate the Spike Juice?   \n",
       "337         3 days after Moderna booster has anyone else experienced swollen lymph nodes in the neck. The same side where my nodes are swollen I’m experiencing sore gums, cheek and a tightness in my neck. I haven’t changed anything in my diet or done anything to cause &amp; come to the conclusion it is the booster   \n",
       "1264        Last night my bf(24) and I (19 were cuddling in my living room we had been drinking but he didn’t drink that much, fast forward a few hours I’m pretty drunk and not fully conciois &amp;trying to sleep, I wake up when I see my bf trying to pull down my leggings, I pushed away and pulled them back up and   \n",
       "10838       OK, If you absolutely Must Vax, which one is safest w least side effects - Pfizer, Moderna, J&amp;J? (I believe these are the only choices in US until Novavax approval) J&amp;J - one &amp; done but clotting issues. Moderna more effective against D but more S.E. Pfizer less effective but safer. Discuss!   \n",
       "1148          Don’t be a victim Get your registered CDC, NHS, mygov, and Medicare vaccines card/certificates or exemption Worldwide ,C0V!D l9 medication ivermectin tabs. Join &amp; share https://t.me/+pYQ1Ic81O8o1OWI0 Telegram @DrLydialane WhatsApp- +1 (909) 318-3699 +(61)499191682 +44 7888 889166 for verification   \n",
       "1763          Freaking out, I’m fully vaccinated w/ the pfizer vaccine &amp; am home from college visiting my family, my boyfriend just told me he tested positive for covid-19, he’s not vaccinated. I have been hanging out with him for 3 days, &amp; kissing him, could I still get covid from him what are my chances,   \n",
       "430            I’m at the er again I’ve had real slight stinging on both sides of my chest mainly on my left !!!! There is a lot of mfs telling me I won’t be fine but everytime I’m here and get tested with three different test everything comes back perfect I really don’t know what to believe and it’s fucking me up   \n",
       "\n",
       "             subreddit  title_char_length  title_word_count  \n",
       "9478    DebateVaccines                308                15  \n",
       "1027   CovidVaccinated                306                40  \n",
       "4605   CovidVaccinated                306                56  \n",
       "10565   DebateVaccines                304                51  \n",
       "337    CovidVaccinated                303                55  \n",
       "1264   CovidVaccinated                303                61  \n",
       "10838   DebateVaccines                303                52  \n",
       "1148   CovidVaccinated                301                38  \n",
       "1763   CovidVaccinated                301                54  \n",
       "430    CovidVaccinated                300                60  "
      ]
     },
     "execution_count": 25,
     "metadata": {},
     "output_type": "execute_result"
    }
   ],
   "source": [
    "# Obtained the longest titles by character length.\n",
    "df_subreddits.sort_values(by = 'title_char_length', ascending=False).head(10)"
   ]
  },
  {
   "cell_type": "code",
   "execution_count": 26,
   "id": "f99e7dfd-fbfb-44b8-b150-a0bac61cb861",
   "metadata": {},
   "outputs": [
    {
     "data": {
      "text/html": [
       "<div>\n",
       "<style scoped>\n",
       "    .dataframe tbody tr th:only-of-type {\n",
       "        vertical-align: middle;\n",
       "    }\n",
       "\n",
       "    .dataframe tbody tr th {\n",
       "        vertical-align: top;\n",
       "    }\n",
       "\n",
       "    .dataframe thead th {\n",
       "        text-align: right;\n",
       "    }\n",
       "</style>\n",
       "<table border=\"1\" class=\"dataframe\">\n",
       "  <thead>\n",
       "    <tr style=\"text-align: right;\">\n",
       "      <th></th>\n",
       "      <th>title</th>\n",
       "      <th>subreddit</th>\n",
       "      <th>title_char_length</th>\n",
       "      <th>title_word_count</th>\n",
       "    </tr>\n",
       "  </thead>\n",
       "  <tbody>\n",
       "    <tr>\n",
       "      <th>12853</th>\n",
       "      <td>Question</td>\n",
       "      <td>DebateVaccines</td>\n",
       "      <td>8</td>\n",
       "      <td>1</td>\n",
       "    </tr>\n",
       "    <tr>\n",
       "      <th>5647</th>\n",
       "      <td>Vaccine</td>\n",
       "      <td>CovidVaccinated</td>\n",
       "      <td>7</td>\n",
       "      <td>1</td>\n",
       "    </tr>\n",
       "    <tr>\n",
       "      <th>1798</th>\n",
       "      <td>Undecided</td>\n",
       "      <td>CovidVaccinated</td>\n",
       "      <td>9</td>\n",
       "      <td>1</td>\n",
       "    </tr>\n",
       "    <tr>\n",
       "      <th>9469</th>\n",
       "      <td>https://www.cheknews.ca/bccdc-has-stopped-notifying-the-public-about-covid-19-exposures-on-flights-915051/</td>\n",
       "      <td>DebateVaccines</td>\n",
       "      <td>106</td>\n",
       "      <td>1</td>\n",
       "    </tr>\n",
       "    <tr>\n",
       "      <th>5599</th>\n",
       "      <td>Help!!</td>\n",
       "      <td>CovidVaccinated</td>\n",
       "      <td>6</td>\n",
       "      <td>1</td>\n",
       "    </tr>\n",
       "    <tr>\n",
       "      <th>1826</th>\n",
       "      <td>Workplace</td>\n",
       "      <td>CovidVaccinated</td>\n",
       "      <td>9</td>\n",
       "      <td>1</td>\n",
       "    </tr>\n",
       "    <tr>\n",
       "      <th>13119</th>\n",
       "      <td>Vaccines</td>\n",
       "      <td>DebateVaccines</td>\n",
       "      <td>8</td>\n",
       "      <td>1</td>\n",
       "    </tr>\n",
       "    <tr>\n",
       "      <th>9513</th>\n",
       "      <td>Thoughts?</td>\n",
       "      <td>DebateVaccines</td>\n",
       "      <td>9</td>\n",
       "      <td>1</td>\n",
       "    </tr>\n",
       "    <tr>\n",
       "      <th>1857</th>\n",
       "      <td>Symptoms</td>\n",
       "      <td>CovidVaccinated</td>\n",
       "      <td>8</td>\n",
       "      <td>1</td>\n",
       "    </tr>\n",
       "    <tr>\n",
       "      <th>333</th>\n",
       "      <td>Numbness/tingling</td>\n",
       "      <td>CovidVaccinated</td>\n",
       "      <td>17</td>\n",
       "      <td>1</td>\n",
       "    </tr>\n",
       "  </tbody>\n",
       "</table>\n",
       "</div>"
      ],
      "text/plain": [
       "                                                                                                            title  \\\n",
       "12853                                                                                                    Question   \n",
       "5647                                                                                                      Vaccine   \n",
       "1798                                                                                                    Undecided   \n",
       "9469   https://www.cheknews.ca/bccdc-has-stopped-notifying-the-public-about-covid-19-exposures-on-flights-915051/   \n",
       "5599                                                                                                       Help!!   \n",
       "1826                                                                                                    Workplace   \n",
       "13119                                                                                                    Vaccines   \n",
       "9513                                                                                                    Thoughts?   \n",
       "1857                                                                                                     Symptoms   \n",
       "333                                                                                             Numbness/tingling   \n",
       "\n",
       "             subreddit  title_char_length  title_word_count  \n",
       "12853   DebateVaccines                  8                 1  \n",
       "5647   CovidVaccinated                  7                 1  \n",
       "1798   CovidVaccinated                  9                 1  \n",
       "9469    DebateVaccines                106                 1  \n",
       "5599   CovidVaccinated                  6                 1  \n",
       "1826   CovidVaccinated                  9                 1  \n",
       "13119   DebateVaccines                  8                 1  \n",
       "9513    DebateVaccines                  9                 1  \n",
       "1857   CovidVaccinated                  8                 1  \n",
       "333    CovidVaccinated                 17                 1  "
      ]
     },
     "execution_count": 26,
     "metadata": {},
     "output_type": "execute_result"
    }
   ],
   "source": [
    "# Obtained the shortest titles by word count.\n",
    "df_subreddits.sort_values(by = 'title_word_count', ascending=True).head(10)"
   ]
  },
  {
   "cell_type": "code",
   "execution_count": 27,
   "id": "44173ab1-2aa0-4e3e-8907-bbaad19f229f",
   "metadata": {},
   "outputs": [
    {
     "data": {
      "text/html": [
       "<div>\n",
       "<style scoped>\n",
       "    .dataframe tbody tr th:only-of-type {\n",
       "        vertical-align: middle;\n",
       "    }\n",
       "\n",
       "    .dataframe tbody tr th {\n",
       "        vertical-align: top;\n",
       "    }\n",
       "\n",
       "    .dataframe thead th {\n",
       "        text-align: right;\n",
       "    }\n",
       "</style>\n",
       "<table border=\"1\" class=\"dataframe\">\n",
       "  <thead>\n",
       "    <tr style=\"text-align: right;\">\n",
       "      <th></th>\n",
       "      <th>title</th>\n",
       "      <th>subreddit</th>\n",
       "      <th>title_char_length</th>\n",
       "      <th>title_word_count</th>\n",
       "    </tr>\n",
       "  </thead>\n",
       "  <tbody>\n",
       "    <tr>\n",
       "      <th>6344</th>\n",
       "      <td>.</td>\n",
       "      <td>CovidVaccinated</td>\n",
       "      <td>1</td>\n",
       "      <td>1</td>\n",
       "    </tr>\n",
       "    <tr>\n",
       "      <th>12591</th>\n",
       "      <td>T</td>\n",
       "      <td>DebateVaccines</td>\n",
       "      <td>1</td>\n",
       "      <td>1</td>\n",
       "    </tr>\n",
       "    <tr>\n",
       "      <th>9107</th>\n",
       "      <td>A</td>\n",
       "      <td>DebateVaccines</td>\n",
       "      <td>1</td>\n",
       "      <td>1</td>\n",
       "    </tr>\n",
       "    <tr>\n",
       "      <th>12207</th>\n",
       "      <td>s</td>\n",
       "      <td>DebateVaccines</td>\n",
       "      <td>1</td>\n",
       "      <td>1</td>\n",
       "    </tr>\n",
       "    <tr>\n",
       "      <th>13458</th>\n",
       "      <td>.</td>\n",
       "      <td>DebateVaccines</td>\n",
       "      <td>1</td>\n",
       "      <td>1</td>\n",
       "    </tr>\n",
       "    <tr>\n",
       "      <th>9586</th>\n",
       "      <td>Hi</td>\n",
       "      <td>DebateVaccines</td>\n",
       "      <td>2</td>\n",
       "      <td>1</td>\n",
       "    </tr>\n",
       "    <tr>\n",
       "      <th>3536</th>\n",
       "      <td>Hi</td>\n",
       "      <td>CovidVaccinated</td>\n",
       "      <td>2</td>\n",
       "      <td>1</td>\n",
       "    </tr>\n",
       "    <tr>\n",
       "      <th>658</th>\n",
       "      <td>??</td>\n",
       "      <td>CovidVaccinated</td>\n",
       "      <td>2</td>\n",
       "      <td>1</td>\n",
       "    </tr>\n",
       "    <tr>\n",
       "      <th>8378</th>\n",
       "      <td>MMR</td>\n",
       "      <td>DebateVaccines</td>\n",
       "      <td>3</td>\n",
       "      <td>1</td>\n",
       "    </tr>\n",
       "    <tr>\n",
       "      <th>12839</th>\n",
       "      <td>hoi</td>\n",
       "      <td>DebateVaccines</td>\n",
       "      <td>3</td>\n",
       "      <td>1</td>\n",
       "    </tr>\n",
       "  </tbody>\n",
       "</table>\n",
       "</div>"
      ],
      "text/plain": [
       "      title        subreddit  title_char_length  title_word_count\n",
       "6344      .  CovidVaccinated                  1                 1\n",
       "12591     T   DebateVaccines                  1                 1\n",
       "9107      A   DebateVaccines                  1                 1\n",
       "12207     s   DebateVaccines                  1                 1\n",
       "13458     .   DebateVaccines                  1                 1\n",
       "9586     Hi   DebateVaccines                  2                 1\n",
       "3536     Hi  CovidVaccinated                  2                 1\n",
       "658      ??  CovidVaccinated                  2                 1\n",
       "8378    MMR   DebateVaccines                  3                 1\n",
       "12839   hoi   DebateVaccines                  3                 1"
      ]
     },
     "execution_count": 27,
     "metadata": {},
     "output_type": "execute_result"
    }
   ],
   "source": [
    "# Obtained the shortest titles by character length. \n",
    "df_subreddits.sort_values(by = 'title_char_length', ascending=True).head(10)"
   ]
  },
  {
   "cell_type": "code",
   "execution_count": 29,
   "id": "e2a42c66-9c67-46f0-8bce-465904dd0fe5",
   "metadata": {},
   "outputs": [],
   "source": [
    "# Created a Plotly plot of the 'title_char_length' distribution.\n",
    "# title_char_legnth_hist = px.histogram(data_frame=df_subreddits, x='title_char_length', nbins=25, title='Title Character Length')"
   ]
  },
  {
   "cell_type": "code",
   "execution_count": 30,
   "id": "20e293ce-7b7a-456b-843d-af6b3faf5529",
   "metadata": {},
   "outputs": [],
   "source": [
    "# Enlarged the Plotly plot created in the cell above.\n",
    "# title_char_legnth_hist.update_layout(title_font_size=40, title_x=.5)\n",
    "# title_char_legnth_hist"
   ]
  },
  {
   "cell_type": "code",
   "execution_count": 31,
   "id": "59bb2897-2520-4b0a-81bb-266f9ac4f996",
   "metadata": {},
   "outputs": [
    {
     "data": {
      "image/png": "[encoded data removed]",
      "text/plain": [
       "<Figure size 432x288 with 1 Axes>"
      ]
     },
     "metadata": {
      "needs_background": "light"
     },
     "output_type": "display_data"
    }
   ],
   "source": [
    "# Created a Matplotlib histogram plot of the 'title_char_length' distribution.\n",
    "plt.hist(df_subreddits['title_char_length'], bins=25);"
   ]
  },
  {
   "cell_type": "code",
   "execution_count": 32,
   "id": "6142e822-9e25-4c4b-8a80-962fe62ab64a",
   "metadata": {},
   "outputs": [],
   "source": [
    "# Created a Plotly plot of the 'title_word_length' distribution.\n",
    "# title_word_legnth_hist = px.histogram(data_frame=df_subreddits, x='title_word_count', nbins=25, title='Title Word Count')"
   ]
  },
  {
   "cell_type": "code",
   "execution_count": 33,
   "id": "50256e61-9b43-4fd4-9ad6-e957e34cf1bd",
   "metadata": {},
   "outputs": [],
   "source": [
    "# Enlarged the Plotly plot created in the cell above.\n",
    "# title_word_legnth_hist.update_layout(title_font_size=40, title_x=.5)\n",
    "# title_word_legnth_hist"
   ]
  },
  {
   "cell_type": "code",
   "execution_count": 35,
   "id": "ec66b023-c6ec-423d-a373-ffd8db24a8ac",
   "metadata": {},
   "outputs": [
    {
     "data": {
      "image/png": "[encoded data removed]",
      "text/plain": [
       "<Figure size 432x288 with 1 Axes>"
      ]
     },
     "metadata": {
      "needs_background": "light"
     },
     "output_type": "display_data"
    }
   ],
   "source": [
    "# Created a Matplotlib histogram plot of the 'title_word_length' distribution.\n",
    "plt.hist(df_subreddits['title_word_count'], bins=25);"
   ]
  },
  {
   "cell_type": "code",
   "execution_count": 42,
   "id": "18cc62bb-61ea-48bd-8634-a6014cdab54d",
   "metadata": {},
   "outputs": [
    {
     "data": {
      "text/plain": [
       "booster    1500\n",
       "pfizer     1486\n",
       "vaccine    1393\n",
       "shot        821\n",
       "covid       785\n",
       "dose        781\n",
       "moderna     696\n",
       "got         511\n",
       "amp         491\n",
       "effects     490\n",
       "dtype: int64"
      ]
     },
     "execution_count": 42,
     "metadata": {},
     "output_type": "execute_result"
    }
   ],
   "source": [
    "# Instantiating a CountVectorizer object that splits the documents in the corpus into unigrams.  Then fit and transformed subreddit A's titles before obtaining the 10 most common unigrams.\n",
    "cvec_uni = CountVectorizer(ngram_range=(1, 1), stop_words='english')\n",
    "\n",
    "subreddit_a_uni_titles = cvec_uni.fit_transform(subreddit_a_part_one['title'])\n",
    "\n",
    "subreddit_a_uni_titles_pd = pd.DataFrame(data=subreddit_a_uni_titles.A, columns=cvec_uni.get_feature_names_out())\n",
    "\n",
    "subreddit_a_most_common_unigrams = subreddit_a_uni_titles_pd.sum().sort_values(ascending=False).head(10)\n",
    "subreddit_a_most_common_unigrams"
   ]
  },
  {
   "cell_type": "code",
   "execution_count": 43,
   "id": "91efe834-d416-409f-9cf4-ccb3bd17c22f",
   "metadata": {},
   "outputs": [
    {
     "data": {
      "text/plain": [
       "vaccine        1727\n",
       "covid          1407\n",
       "vaccines       1092\n",
       "people          546\n",
       "19              487\n",
       "vaccinated      453\n",
       "anti            357\n",
       "vaxxers         340\n",
       "pfizer          316\n",
       "vaccination     300\n",
       "dtype: int64"
      ]
     },
     "execution_count": 43,
     "metadata": {},
     "output_type": "execute_result"
    }
   ],
   "source": [
    "# Fit and transformed the CountVectorizer object above on subreddit B's titles before obtaining the 10 most common unigrams in that corpus.\n",
    "subreddit_b_uni_titles = cvec_uni.fit_transform(subreddit_b_part_one['title'])\n",
    "\n",
    "subreddit_b_uni_titles_pd = pd.DataFrame(data=subreddit_b_uni_titles.A, columns=cvec_uni.get_feature_names_out())\n",
    "\n",
    "subreddit_b_most_common_unigrams = subreddit_b_uni_titles_pd.sum().sort_values(ascending=False).head(10)\n",
    "subreddit_b_most_common_unigrams"
   ]
  },
  {
   "cell_type": "code",
   "execution_count": 44,
   "id": "0b3fb726-e7aa-4398-9817-09f110f641b7",
   "metadata": {},
   "outputs": [
    {
     "data": {
      "text/plain": [
       "pfizer booster     297\n",
       "moderna booster    263\n",
       "booster shot       189\n",
       "covid vaccine      168\n",
       "second dose        165\n",
       "pfizer vaccine     165\n",
       "2nd dose           137\n",
       "dose pfizer        130\n",
       "pfizer shot        127\n",
       "pfizer dose         93\n",
       "dtype: int64"
      ]
     },
     "execution_count": 44,
     "metadata": {},
     "output_type": "execute_result"
    }
   ],
   "source": [
    "# Instantiating a CountVectorizer object that splits the documents in the corpus into bigrams.  Then fit and transformed subreddit A's titles before obtaining the 10 most common bigrams.\n",
    "cvec_bi = CountVectorizer(ngram_range=(2, 2), stop_words='english')\n",
    "\n",
    "subreddit_a_bi_titles = cvec_bi.fit_transform(subreddit_a_part_one['title'])\n",
    "\n",
    "subreddit_a_bi_titles_pd = pd.DataFrame(data=subreddit_a_bi_titles.A, columns=cvec_bi.get_feature_names_out())\n",
    "\n",
    "subreddit_a_most_common_bigrams = subreddit_a_bi_titles_pd.sum().sort_values(ascending=False).head(10)\n",
    "subreddit_a_most_common_bigrams"
   ]
  },
  {
   "cell_type": "code",
   "execution_count": 46,
   "id": "e75ac8bc-bcd6-4730-a1bb-eab97e052f86",
   "metadata": {},
   "outputs": [
    {
     "data": {
      "text/plain": [
       "covid 19          476\n",
       "covid vaccine     204\n",
       "anti vaxxers      157\n",
       "19 vaccine        144\n",
       "pro vaxxers       120\n",
       "covid vaccines    113\n",
       "19 vaccines        72\n",
       "vaccines cause     67\n",
       "spike protein      58\n",
       "sars cov           58\n",
       "dtype: int64"
      ]
     },
     "execution_count": 46,
     "metadata": {},
     "output_type": "execute_result"
    }
   ],
   "source": [
    "# Fit and transformed the CountVectorizer object above on subreddit B's titles before obtaining the 10 most common bigrams in that corpus.\n",
    "subreddit_b_bi_titles = cvec_bi.fit_transform(subreddit_b_part_one['title'])\n",
    "\n",
    "subreddit_b_bi_titles_pd = pd.DataFrame(data=subreddit_b_bi_titles.A, columns=cvec_bi.get_feature_names_out())\n",
    "\n",
    "subreddit_b_most_common_bigrams = subreddit_b_bi_titles_pd.sum().sort_values(ascending=False).head(10)\n",
    "subreddit_b_most_common_bigrams"
   ]
  },
  {
   "cell_type": "code",
   "execution_count": 48,
   "id": "15d5921d-0392-4ae8-8561-fe0a9323d984",
   "metadata": {},
   "outputs": [
    {
     "data": {
      "text/plain": [
       "second dose pfizer           32\n",
       "pfizer booster shot          30\n",
       "second pfizer shot           25\n",
       "2nd pfizer shot              25\n",
       "got moderna booster          24\n",
       "swollen lymph nodes          24\n",
       "covid 19 vaccine             22\n",
       "pfizer booster experience    20\n",
       "2nd pfizer dose              19\n",
       "2nd dose pfizer              19\n",
       "dtype: int64"
      ]
     },
     "execution_count": 48,
     "metadata": {},
     "output_type": "execute_result"
    }
   ],
   "source": [
    "# Instantiating a CountVectorizer object that splits the documents in the corpus into trigrams.  Then fit and transformed subreddit A's titles before obtaining the 10 most common trigrams.\n",
    "cvec_tri = CountVectorizer(ngram_range=(3, 3), stop_words='english')\n",
    "\n",
    "subreddit_a_tri_titles = cvec_tri.fit_transform(subreddit_a_part_one['title'])\n",
    "\n",
    "subreddit_a_tri_titles_pd = pd.DataFrame(data=subreddit_a_tri_titles.A, columns=cvec_tri.get_feature_names_out())\n",
    "\n",
    "subreddit_a_most_common_trigrams = subreddit_a_tri_titles_pd.sum().sort_values(ascending=False).head(10)\n",
    "subreddit_a_most_common_trigrams"
   ]
  },
  {
   "cell_type": "code",
   "execution_count": 49,
   "id": "17ef54d2-dd00-4147-ae6c-9912aa72785b",
   "metadata": {},
   "outputs": [
    {
     "data": {
      "text/plain": [
       "covid 19 vaccine           144\n",
       "covid 19 vaccines           71\n",
       "question pro vaxxers        40\n",
       "vaccines cause autism       39\n",
       "covid 19 vaccination        25\n",
       "pfizer covid 19             15\n",
       "vaccines safe effective     14\n",
       "pro vaxxers believe         13\n",
       "covid 19 deaths             13\n",
       "dr robert malone            12\n",
       "dtype: int64"
      ]
     },
     "execution_count": 49,
     "metadata": {},
     "output_type": "execute_result"
    }
   ],
   "source": [
    "# Fit and transformed the CountVectorizer object above on subreddit B's titles before obtaining the 10 most common trigrams in that corpus.\n",
    "subreddit_b_tri_titles = cvec_tri.fit_transform(subreddit_b_part_one['title'])\n",
    "\n",
    "subreddit_b_tri_titles_pd = pd.DataFrame(data=subreddit_b_tri_titles.A, columns=cvec_tri.get_feature_names_out())\n",
    "\n",
    "subreddit_b_most_common_trigrams = subreddit_b_tri_titles_pd.sum().sort_values(ascending=False).head(10)\n",
    "subreddit_b_most_common_trigrams"
   ]
  },
  {
   "cell_type": "code",
   "execution_count": 58,
   "id": "100055f0-def7-4cb6-bcdd-7469dca191ce",
   "metadata": {},
   "outputs": [
    {
     "data": {
      "text/plain": [
       "just got moderna booster      10\n",
       "moderna booster flu shot       6\n",
       "second dose pfizer vaccine     6\n",
       "just got pfizer booster        5\n",
       "got second pfizer shot         5\n",
       "moderna booster half dose      5\n",
       "just got pfizer shot           4\n",
       "booster flu shot time          4\n",
       "swollen lymph nodes neck       4\n",
       "pfizer booster flu shot        4\n",
       "dtype: int64"
      ]
     },
     "execution_count": 58,
     "metadata": {},
     "output_type": "execute_result"
    }
   ],
   "source": [
    "# Instantiating a CountVectorizer object that splits the documents in the corpus into 4 n-grams.  Then fit and transformed subreddit A's titles before obtaining the 10 most common 4 n-grams.\n",
    "cvec_quad = CountVectorizer(ngram_range=(4, 4), stop_words='english')\n",
    "\n",
    "subreddit_a_quad_titles = cvec_quad.fit_transform(subreddit_a_part_one['title'])\n",
    "\n",
    "subreddit_a_quad_titles_pd = pd.DataFrame(data=subreddit_a_quad_titles.A, columns=cvec_quad.get_feature_names_out())\n",
    "\n",
    "subreddit_a_most_common_quadgrams = subreddit_a_quad_titles_pd.sum().sort_values(ascending=False).head(10)\n",
    "subreddit_a_most_common_quadgrams"
   ]
  },
  {
   "cell_type": "code",
   "execution_count": 51,
   "id": "820cb040-e8bc-43e4-89ff-16409d111b23",
   "metadata": {},
   "outputs": [
    {
     "data": {
      "text/plain": [
       "pfizer covid 19 vaccine           12\n",
       "athlete cardiac arrests issues    10\n",
       "question pro vaxxers believe       8\n",
       "believe vaccines cause autism      7\n",
       "covid shots european database      6\n",
       "pro vaxxers believe vaccines       6\n",
       "following covid shots european     6\n",
       "pfizer biontech covid 19           5\n",
       "sars cov delta variant             5\n",
       "biontech covid 19 vaccine          5\n",
       "dtype: int64"
      ]
     },
     "execution_count": 51,
     "metadata": {},
     "output_type": "execute_result"
    }
   ],
   "source": [
    "# Fit and transformed the CountVectorizer object above on subreddit B's titles before obtaining the 10 most common 4 n-grams in that corpus.\n",
    "subreddit_b_quad_titles = cvec_quad.fit_transform(subreddit_b_part_one['title'])\n",
    "\n",
    "subreddit_b_quad_titles_pd = pd.DataFrame(data=subreddit_b_quad_titles.A, columns=cvec_quad.get_feature_names_out())\n",
    "\n",
    "subreddit_b_most_common_quadgrams = subreddit_b_quad_titles_pd.sum().sort_values(ascending=False).head(10)\n",
    "subreddit_b_most_common_quadgrams"
   ]
  },
  {
   "cell_type": "code",
   "execution_count": 53,
   "id": "c2033acc-1125-4fc8-85b9-0c5e9f6d3440",
   "metadata": {},
   "outputs": [
    {
     "data": {
      "text/plain": [
       "just wondering vaccine causes immune           3\n",
       "september amp ve mild indigestion              3\n",
       "mild indigestion stomach cramping gassiness    3\n",
       "got moderna shot 30th september                3\n",
       "got moderna booster flu shot                   3\n",
       "chest pain 1st dose pfizer                     3\n",
       "reaction thing just curious works              3\n",
       "ve mild indigestion stomach cramping           3\n",
       "vaccine causes immune reaction thing           3\n",
       "shot 30th september amp ve                     3\n",
       "dtype: int64"
      ]
     },
     "execution_count": 53,
     "metadata": {},
     "output_type": "execute_result"
    }
   ],
   "source": [
    "# Instantiating a CountVectorizer object that splits the documents in the corpus into 5 n-grams.  Then fit and transformed subreddit A's titles before obtaining the 10 most common 5 n-grams.\n",
    "cvec_quint = CountVectorizer(ngram_range=(5, 5), stop_words='english')\n",
    "\n",
    "subreddit_a_quint_titles = cvec_quint.fit_transform(subreddit_a_part_one['title'])\n",
    "\n",
    "subreddit_a_quint_titles_pd = pd.DataFrame(data=subreddit_a_quint_titles.A, columns=cvec_quint.get_feature_names_out())\n",
    "\n",
    "subreddit_a_most_common_quintgrams = subreddit_a_quint_titles_pd.sum().sort_values(ascending=False).head(10)\n",
    "subreddit_a_most_common_quintgrams"
   ]
  },
  {
   "cell_type": "code",
   "execution_count": 54,
   "id": "f8da1f7d-1442-434c-a883-673c9727425c",
   "metadata": {},
   "outputs": [
    {
     "data": {
      "text/plain": [
       "following covid shots european database                   6\n",
       "pfizer biontech covid 19 vaccine                          5\n",
       "vaccines retroviruses whistleblower reveals government    4\n",
       "retroviruses whistleblower reveals government hiding      4\n",
       "injuries following covid shots european                   4\n",
       "severe allergies anaphylaxis mrna covid19                 3\n",
       "variant poised acquire complete resistance                3\n",
       "complete resistance wild type spike                       3\n",
       "acquire complete resistance wild type                     3\n",
       "delta variant poised acquire complete                     3\n",
       "dtype: int64"
      ]
     },
     "execution_count": 54,
     "metadata": {},
     "output_type": "execute_result"
    }
   ],
   "source": [
    "# Fit and transformed the CountVectorizer object above on subreddit B's titles before obtaining the 10 most common 5 n-grams in that corpus.\n",
    "subreddit_b_quint_titles = cvec_quint.fit_transform(subreddit_b_part_one['title'])\n",
    "\n",
    "subreddit_b_quint_titles_pd = pd.DataFrame(data=subreddit_b_quint_titles.A, columns=cvec_quint.get_feature_names_out())\n",
    "\n",
    "subreddit_b_most_common_quintgrams = subreddit_b_quint_titles_pd.sum().sort_values(ascending=False).head(10)\n",
    "subreddit_b_most_common_quintgrams"
   ]
  }
 ],
 "metadata": {
  "kernelspec": {
   "display_name": "Python 3 (ipykernel)",
   "language": "python",
   "name": "python3"
  },
  "language_info": {
   "codemirror_mode": {
    "name": "ipython",
    "version": 3
   },
   "file_extension": ".py",
   "mimetype": "text/x-python",
   "name": "python",
   "nbconvert_exporter": "python",
   "pygments_lexer": "ipython3",
   "version": "3.9.7"
  }
 },
 "nbformat": 4,
 "nbformat_minor": 5
}
